{
 "cells": [
  {
   "cell_type": "code",
   "execution_count": 358,
   "metadata": {
    "collapsed": false
   },
   "outputs": [
    {
     "name": "stdout",
     "output_type": "stream",
     "text": [
      "Populating the interactive namespace from numpy and matplotlib\n"
     ]
    }
   ],
   "source": [
    "%pylab inline\n",
    "\n",
    "import urllib2\n",
    "from bs4 import BeautifulSoup\n",
    "import re\n",
    "import time\n",
    "import pandas as pd\n",
    "from dateutil.parser import parse\n",
    "import datetime"
   ]
  },
  {
   "cell_type": "markdown",
   "metadata": {},
   "source": [
    "# Buncha User Functions to sort out the messy Reddit HTML"
   ]
  },
  {
   "cell_type": "code",
   "execution_count": 359,
   "metadata": {
    "collapsed": true
   },
   "outputs": [],
   "source": [
    "def connect(url):\n",
    "    hackerVoiceImIn = False\n",
    "    while not hackerVoiceImIn:\n",
    "        try:\n",
    "            socket = urllib2.urlopen(url)\n",
    "            html = socket.read()\n",
    "            soup = BeautifulSoup(html, 'lxml')\n",
    "            hackerVoiceImIn = True\n",
    "        except:\n",
    "            time.sleep(3)\n",
    "            pass\n",
    "    return soup"
   ]
  },
  {
   "cell_type": "code",
   "execution_count": 360,
   "metadata": {
    "collapsed": true
   },
   "outputs": [],
   "source": [
    "class CommentBox:\n",
    "    def __init__(self, soup):\n",
    "        self.soup = soup\n",
    "    def get_soup(self):\n",
    "        return self.soup\n",
    "    def get_author(self):\n",
    "        return self.soup.get('data-author')\n",
    "    def get_neighbors(self):\n",
    "        result = self.soup.find_next_siblings()[1::2]\n",
    "        result = map(lambda x: CommentBox(x), result)\n",
    "        return result\n",
    "    def get_entry_unvoted(self):\n",
    "        return self.soup.find('div', {'class':'entry unvoted'})\n",
    "    def get_child(self):\n",
    "        return self.soup.find('div', {'class':'child'})\n",
    "    def get_comment(self):\n",
    "        return EntryUnvoted(self.get_entry_unvoted()).get_comment()"
   ]
  },
  {
   "cell_type": "code",
   "execution_count": 361,
   "metadata": {
    "collapsed": false
   },
   "outputs": [],
   "source": [
    "class EntryUnvoted:\n",
    "    def __init__(self, soup):\n",
    "        self.soup = soup\n",
    "    def get_soup(self):\n",
    "        return self.soup        \n",
    "    def get_comment(self):\n",
    "        return str(self.soup.find('div', {'class':'md'}).get_text())\n",
    "    def get_parent_comment_box(self):\n",
    "        return self.soup.find_parent()\n",
    "    def is_a_bargain(self):\n",
    "        return (self.get_comment() in bargains)\n",
    "    def get_score(self):\n",
    "        score = re.compile(r'(\\d+) points')\n",
    "        text = self.soup.find('span', {'class': 'score likes'}).get_text()\n",
    "        return int(score.findall(text)[0])\n",
    "    def get_author(self):\n",
    "        return CommentBox(self.get_parent_comment_box()).get_author()\n",
    "    def get_time(self):\n",
    "        return parse(self.soup.find('time').get('datetime'))\n",
    "    def get_url(self):\n",
    "        return self.soup.find('ul').find('a').get('href')"
   ]
  },
  {
   "cell_type": "code",
   "execution_count": 362,
   "metadata": {
    "collapsed": false
   },
   "outputs": [],
   "source": [
    "class Child:\n",
    "    def __init__(self, soup):\n",
    "        self.soup = soup\n",
    "    def get_soup(self):\n",
    "        return self.soup \n",
    "    def get_comment_boxes(self):\n",
    "        base = CommentBox(self.soup.find('div').find('div'))\n",
    "        #print base.get_neighbors()\n",
    "        result = [base]\n",
    "        result.extend(base.get_neighbors())\n",
    "        return result"
   ]
  },
  {
   "cell_type": "code",
   "execution_count": 353,
   "metadata": {
    "collapsed": false
   },
   "outputs": [
    {
     "data": {
      "text/plain": [
       "'https://www.reddit.com/r/movies/comments/5b0zni/official_discussion_doctor_strange_spoilers/d9kwuke/'"
      ]
     },
     "execution_count": 353,
     "metadata": {},
     "output_type": "execute_result"
    }
   ],
   "source": [
    "url = r'https://www.reddit.com/r/movies/comments/5b0zni/official_discussion_doctor_strange_spoilers/d9kwuke/'\n",
    "soup = connect(url)\n",
    "e = EntryUnvoted(soup.findAll('div', {'class': 'entry unvoted'})[1])\n",
    "e.get_url()"
   ]
  },
  {
   "cell_type": "markdown",
   "metadata": {},
   "source": [
    "# The comments strings that we're after"
   ]
  },
  {
   "cell_type": "code",
   "execution_count": 363,
   "metadata": {
    "collapsed": false
   },
   "outputs": [],
   "source": [
    "bargains = ('\"Dormammu, I\\'ve come to bargain\"\\n', '\"Dormammu, I\\'ve come to bargain.\"\\n')"
   ]
  },
  {
   "cell_type": "markdown",
   "metadata": {},
   "source": [
    "# Want to get FilmsAreQuiteAwesome's first comment. This is our Base Case."
   ]
  },
  {
   "cell_type": "code",
   "execution_count": 364,
   "metadata": {
    "collapsed": true
   },
   "outputs": [],
   "source": [
    "url = r'https://www.reddit.com/r/movies/comments/5b0zni/official_discussion_doctor_strange_spoilers/d9kwuke/'"
   ]
  },
  {
   "cell_type": "code",
   "execution_count": 365,
   "metadata": {
    "collapsed": false
   },
   "outputs": [],
   "source": [
    "authors = ['FilmsAreQuiteAwesome']\n",
    "scores = [1065]\n",
    "otherComments = [0]\n",
    "pages = [1]\n",
    "times = [datetime.datetime(2016, 11, 4, 1, 58, 24)]\n",
    "urls = [url]"
   ]
  },
  {
   "cell_type": "code",
   "execution_count": 366,
   "metadata": {
    "collapsed": false
   },
   "outputs": [],
   "source": [
    "def getBoxes(url):\n",
    "    soup = connect(url)\n",
    "    base = soup.findAll('div', {'class': 'entry unvoted'})[1]\n",
    "    eu = EntryUnvoted(base)\n",
    "    cb = CommentBox(eu.get_parent_comment_box())\n",
    "    child = Child(cb.get_child())\n",
    "    boxes = child.get_comment_boxes()\n",
    "    nextrun = boxes\n",
    "    return nextrun"
   ]
  },
  {
   "cell_type": "code",
   "execution_count": 367,
   "metadata": {
    "collapsed": false
   },
   "outputs": [],
   "source": [
    "def theLoop(nextrun):\n",
    "    global authors\n",
    "    global scores\n",
    "    global otherComments\n",
    "    global pages\n",
    "    global times\n",
    "    global urls\n",
    "    \n",
    "    base = nextrun[0]\n",
    "    author = base.get_author()\n",
    "    score = EntryUnvoted(base.get_entry_unvoted()).get_score()\n",
    "    time = EntryUnvoted(base.get_entry_unvoted()).get_time()\n",
    "    itemUrl = EntryUnvoted(base.get_entry_unvoted()).get_url()\n",
    "    boxes = Child(base.get_child()).get_comment_boxes()\n",
    "    nextrun = []\n",
    "    neighbors = 0\n",
    "    page = pages[-1]\n",
    "    for box in boxes:\n",
    "        try:\n",
    "            neighbors += 1            \n",
    "            entry = EntryUnvoted(box.get_entry_unvoted())\n",
    "            if entry.is_a_bargain():\n",
    "                nextrun.append(box)\n",
    "        except:\n",
    "            url = r'https://www.reddit.com' + entry.get_soup().find('a').get('href')\n",
    "            pages.append(pages[-1]+1)     \n",
    "            nextrun = getBoxes(url)\n",
    "            authors.append(author)\n",
    "            scores.append(score)\n",
    "            pages.append(page+1)\n",
    "            times.append(time)\n",
    "            urls.append(itemUrl)\n",
    "            otherComments.append(neighbors)            \n",
    "            return theLoop(nextrun)\n",
    "    try:\n",
    "        authors.append(author)\n",
    "        scores.append(score)\n",
    "        pages.append(page)\n",
    "        times.append(time)\n",
    "        urls.append(itemUrl)\n",
    "        otherComments.append(neighbors)\n",
    "        return theLoop(nextrun)\n",
    "    except:\n",
    "        print \"Done\""
   ]
  },
  {
   "cell_type": "code",
   "execution_count": 368,
   "metadata": {
    "collapsed": false,
    "scrolled": false
   },
   "outputs": [
    {
     "name": "stdout",
     "output_type": "stream",
     "text": [
      "Done\n"
     ]
    }
   ],
   "source": [
    "theLoop(getBoxes(url))"
   ]
  },
  {
   "cell_type": "markdown",
   "metadata": {},
   "source": [
    "# Build out the dataframe for the analysis"
   ]
  },
  {
   "cell_type": "code",
   "execution_count": 369,
   "metadata": {
    "collapsed": false
   },
   "outputs": [],
   "source": [
    "data = zip(authors, scores, otherComments, pages, times, urls)\n",
    "df = pd.DataFrame(data, columns=['Author', 'Score', 'Neighbors', 'Page', 'PostTime', 'URL'])\n",
    "df['Diff'] = df.PostTime.diff()"
   ]
  },
  {
   "cell_type": "markdown",
   "metadata": {},
   "source": [
    "# Playground for the material"
   ]
  },
  {
   "cell_type": "code",
   "execution_count": 319,
   "metadata": {
    "collapsed": false,
    "scrolled": true
   },
   "outputs": [
    {
     "data": {
      "text/plain": [
       "ggalaximm               185\n",
       "antnylopz                32\n",
       "gggalaximmm               3\n",
       "rohay                     1\n",
       "Torpid-O                  1\n",
       "Deliwoot                  1\n",
       "LegitTURDle               1\n",
       "Kunfuxu                   1\n",
       "slothalot                 1\n",
       "SavioVegaGuy              1\n",
       "DJ-Tom-3                  1\n",
       "UltraDangerLord           1\n",
       "Deofol7                   1\n",
       "MichaelM_Yaa              1\n",
       "MMX2                      1\n",
       "themexiwhite              1\n",
       "kinkosmyers               1\n",
       "MatsFan5ever              1\n",
       "JimboJimboSlicee          1\n",
       "Brady_Hokes_Headset       1\n",
       "ArcturusFlyer             1\n",
       "FilmsAreQuiteAwesome      1\n",
       "Annoying_this_guy         1\n",
       "Trionout                  1\n",
       "Velorium_Camper           1\n",
       "DeoGame                   1\n",
       "pacmain1                  1\n",
       "1337speak                 1\n",
       "wwoofless                 1\n",
       "Hansmonky                 1\n",
       "Brolom                    1\n",
       "nanoman92                 1\n",
       "Name: Author, dtype: int64"
      ]
     },
     "execution_count": 319,
     "metadata": {},
     "output_type": "execute_result"
    }
   ],
   "source": [
    "df.Author.value_counts()"
   ]
  },
  {
   "cell_type": "code",
   "execution_count": 326,
   "metadata": {
    "collapsed": false
   },
   "outputs": [
    {
     "data": {
      "text/plain": [
       "(-1, 1150)"
      ]
     },
     "execution_count": 326,
     "metadata": {},
     "output_type": "execute_result"
    },
    {
     "data": {
      "image/png": "[encoded data removed]",
      "text/plain": [
       "<matplotlib.figure.Figure at 0xe47abe0>"
      ]
     },
     "metadata": {},
     "output_type": "display_data"
    }
   ],
   "source": [
    "plt.scatter(df.Page, df.Score)\n",
    "plt.xlim(0, 10)\n",
    "plt.ylim(-1, 1150)"
   ]
  },
  {
   "cell_type": "code",
   "execution_count": 321,
   "metadata": {
    "collapsed": false
   },
   "outputs": [
    {
     "data": {
      "text/plain": [
       "[<matplotlib.lines.Line2D at 0x112eeda0>]"
      ]
     },
     "execution_count": 321,
     "metadata": {},
     "output_type": "execute_result"
    },
    {
     "data": {
      "image/png": "[encoded data removed]",
      "text/plain": [
       "<matplotlib.figure.Figure at 0x85a6470>"
      ]
     },
     "metadata": {},
     "output_type": "display_data"
    }
   ],
   "source": [
    "plt.plot(df.Score.loc[:10])"
   ]
  },
  {
   "cell_type": "code",
   "execution_count": 322,
   "metadata": {
    "collapsed": false,
    "scrolled": false
   },
   "outputs": [
    {
     "data": {
      "text/plain": [
       "[<matplotlib.lines.Line2D at 0xb01a5f8>]"
      ]
     },
     "execution_count": 322,
     "metadata": {},
     "output_type": "execute_result"
    },
    {
     "data": {
      "image/png": "[encoded data removed]",
      "text/plain": [
       "<matplotlib.figure.Figure at 0x11474748>"
      ]
     },
     "metadata": {},
     "output_type": "display_data"
    }
   ],
   "source": [
    "plt.plot(df.Score.loc[10:])\n"
   ]
  },
  {
   "cell_type": "code",
   "execution_count": 382,
   "metadata": {
    "collapsed": false,
    "scrolled": true
   },
   "outputs": [
    {
     "data": {
      "text/html": [
       "<div>\n",
       "<table border=\"1\" class=\"dataframe\">\n",
       "  <thead>\n",
       "    <tr style=\"text-align: right;\">\n",
       "      <th></th>\n",
       "      <th>Author</th>\n",
       "      <th>Score</th>\n",
       "      <th>Neighbors</th>\n",
       "      <th>Page</th>\n",
       "      <th>PostTime</th>\n",
       "      <th>URL</th>\n",
       "      <th>Diff</th>\n",
       "    </tr>\n",
       "  </thead>\n",
       "  <tbody>\n",
       "    <tr>\n",
       "      <th>10</th>\n",
       "      <td>UltraDangerLord</td>\n",
       "      <td>44</td>\n",
       "      <td>3</td>\n",
       "      <td>2</td>\n",
       "      <td>2016-11-04 02:57:58+00:00</td>\n",
       "      <td>https://www.reddit.com/r/movies/comments/5b0zn...</td>\n",
       "      <td>00:07:48</td>\n",
       "    </tr>\n",
       "    <tr>\n",
       "      <th>11</th>\n",
       "      <td>Velorium_Camper</td>\n",
       "      <td>36</td>\n",
       "      <td>2</td>\n",
       "      <td>2</td>\n",
       "      <td>2016-11-04 03:02:35+00:00</td>\n",
       "      <td>https://www.reddit.com/r/movies/comments/5b0zn...</td>\n",
       "      <td>00:04:37</td>\n",
       "    </tr>\n",
       "    <tr>\n",
       "      <th>12</th>\n",
       "      <td>Brolom</td>\n",
       "      <td>38</td>\n",
       "      <td>2</td>\n",
       "      <td>2</td>\n",
       "      <td>2016-11-04 03:36:42+00:00</td>\n",
       "      <td>https://www.reddit.com/r/movies/comments/5b0zn...</td>\n",
       "      <td>00:34:07</td>\n",
       "    </tr>\n",
       "    <tr>\n",
       "      <th>13</th>\n",
       "      <td>kinkosmyers</td>\n",
       "      <td>36</td>\n",
       "      <td>2</td>\n",
       "      <td>2</td>\n",
       "      <td>2016-11-04 03:48:49+00:00</td>\n",
       "      <td>https://www.reddit.com/r/movies/comments/5b0zn...</td>\n",
       "      <td>00:12:07</td>\n",
       "    </tr>\n",
       "    <tr>\n",
       "      <th>14</th>\n",
       "      <td>pacmain1</td>\n",
       "      <td>35</td>\n",
       "      <td>2</td>\n",
       "      <td>2</td>\n",
       "      <td>2016-11-04 04:05:32+00:00</td>\n",
       "      <td>https://www.reddit.com/r/movies/comments/5b0zn...</td>\n",
       "      <td>00:16:43</td>\n",
       "    </tr>\n",
       "    <tr>\n",
       "      <th>15</th>\n",
       "      <td>themexiwhite</td>\n",
       "      <td>33</td>\n",
       "      <td>2</td>\n",
       "      <td>2</td>\n",
       "      <td>2016-11-04 04:11:55+00:00</td>\n",
       "      <td>https://www.reddit.com/r/movies/comments/5b0zn...</td>\n",
       "      <td>00:06:23</td>\n",
       "    </tr>\n",
       "    <tr>\n",
       "      <th>16</th>\n",
       "      <td>Brady_Hokes_Headset</td>\n",
       "      <td>34</td>\n",
       "      <td>2</td>\n",
       "      <td>2</td>\n",
       "      <td>2016-11-04 04:21:17+00:00</td>\n",
       "      <td>https://www.reddit.com/r/movies/comments/5b0zn...</td>\n",
       "      <td>00:09:22</td>\n",
       "    </tr>\n",
       "    <tr>\n",
       "      <th>17</th>\n",
       "      <td>MMX2</td>\n",
       "      <td>32</td>\n",
       "      <td>2</td>\n",
       "      <td>2</td>\n",
       "      <td>2016-11-04 04:33:45+00:00</td>\n",
       "      <td>https://www.reddit.com/r/movies/comments/5b0zn...</td>\n",
       "      <td>00:12:28</td>\n",
       "    </tr>\n",
       "    <tr>\n",
       "      <th>21</th>\n",
       "      <td>LegitTURDle</td>\n",
       "      <td>26</td>\n",
       "      <td>2</td>\n",
       "      <td>3</td>\n",
       "      <td>2016-11-04 05:11:15+00:00</td>\n",
       "      <td>https://www.reddit.com/r/movies/comments/5b0zn...</td>\n",
       "      <td>00:00:41</td>\n",
       "    </tr>\n",
       "    <tr>\n",
       "      <th>152</th>\n",
       "      <td>ggalaximm</td>\n",
       "      <td>5</td>\n",
       "      <td>2</td>\n",
       "      <td>16</td>\n",
       "      <td>2016-11-04 11:05:16+00:00</td>\n",
       "      <td>https://www.reddit.com/r/movies/comments/5b0zn...</td>\n",
       "      <td>00:00:03</td>\n",
       "    </tr>\n",
       "    <tr>\n",
       "      <th>212</th>\n",
       "      <td>ggalaximm</td>\n",
       "      <td>3</td>\n",
       "      <td>4</td>\n",
       "      <td>22</td>\n",
       "      <td>2016-11-04 11:18:51+00:00</td>\n",
       "      <td>https://www.reddit.com/r/movies/comments/5b0zn...</td>\n",
       "      <td>00:00:06</td>\n",
       "    </tr>\n",
       "  </tbody>\n",
       "</table>\n",
       "</div>"
      ],
      "text/plain": [
       "                  Author  Score  Neighbors  Page                  PostTime  \\\n",
       "10       UltraDangerLord     44          3     2 2016-11-04 02:57:58+00:00   \n",
       "11       Velorium_Camper     36          2     2 2016-11-04 03:02:35+00:00   \n",
       "12                Brolom     38          2     2 2016-11-04 03:36:42+00:00   \n",
       "13           kinkosmyers     36          2     2 2016-11-04 03:48:49+00:00   \n",
       "14              pacmain1     35          2     2 2016-11-04 04:05:32+00:00   \n",
       "15          themexiwhite     33          2     2 2016-11-04 04:11:55+00:00   \n",
       "16   Brady_Hokes_Headset     34          2     2 2016-11-04 04:21:17+00:00   \n",
       "17                  MMX2     32          2     2 2016-11-04 04:33:45+00:00   \n",
       "21           LegitTURDle     26          2     3 2016-11-04 05:11:15+00:00   \n",
       "152            ggalaximm      5          2    16 2016-11-04 11:05:16+00:00   \n",
       "212            ggalaximm      3          4    22 2016-11-04 11:18:51+00:00   \n",
       "\n",
       "                                                   URL     Diff  \n",
       "10   https://www.reddit.com/r/movies/comments/5b0zn... 00:07:48  \n",
       "11   https://www.reddit.com/r/movies/comments/5b0zn... 00:04:37  \n",
       "12   https://www.reddit.com/r/movies/comments/5b0zn... 00:34:07  \n",
       "13   https://www.reddit.com/r/movies/comments/5b0zn... 00:12:07  \n",
       "14   https://www.reddit.com/r/movies/comments/5b0zn... 00:16:43  \n",
       "15   https://www.reddit.com/r/movies/comments/5b0zn... 00:06:23  \n",
       "16   https://www.reddit.com/r/movies/comments/5b0zn... 00:09:22  \n",
       "17   https://www.reddit.com/r/movies/comments/5b0zn... 00:12:28  \n",
       "21   https://www.reddit.com/r/movies/comments/5b0zn... 00:00:41  \n",
       "152  https://www.reddit.com/r/movies/comments/5b0zn... 00:00:03  \n",
       "212  https://www.reddit.com/r/movies/comments/5b0zn... 00:00:06  "
      ]
     },
     "execution_count": 382,
     "metadata": {},
     "output_type": "execute_result"
    }
   ],
   "source": [
    "responses = df[(df['Page']> 1) & (df['Neighbors'] > 1)]\n",
    "responses"
   ]
  },
  {
   "cell_type": "code",
   "execution_count": 383,
   "metadata": {
    "collapsed": false
   },
   "outputs": [
    {
     "name": "stdout",
     "output_type": "stream",
     "text": [
      "https://www.reddit.com/r/movies/comments/5b0zni/official_discussion_doctor_strange_spoilers/d9kzed7/\n",
      "https://www.reddit.com/r/movies/comments/5b0zni/official_discussion_doctor_strange_spoilers/d9kzll8/\n",
      "https://www.reddit.com/r/movies/comments/5b0zni/official_discussion_doctor_strange_spoilers/d9l0zho/\n",
      "https://www.reddit.com/r/movies/comments/5b0zni/official_discussion_doctor_strange_spoilers/d9l1gmw/\n",
      "https://www.reddit.com/r/movies/comments/5b0zni/official_discussion_doctor_strange_spoilers/d9l248y/\n",
      "https://www.reddit.com/r/movies/comments/5b0zni/official_discussion_doctor_strange_spoilers/d9l2cui/\n",
      "https://www.reddit.com/r/movies/comments/5b0zni/official_discussion_doctor_strange_spoilers/d9l2oy4/\n",
      "https://www.reddit.com/r/movies/comments/5b0zni/official_discussion_doctor_strange_spoilers/d9l349c/\n",
      "https://www.reddit.com/r/movies/comments/5b0zni/official_discussion_doctor_strange_spoilers/d9l4bcn/\n",
      "https://www.reddit.com/r/movies/comments/5b0zni/official_discussion_doctor_strange_spoilers/d9lbg37/\n",
      "https://www.reddit.com/r/movies/comments/5b0zni/official_discussion_doctor_strange_spoilers/d9lbqsq/\n"
     ]
    }
   ],
   "source": [
    "for i in responses.index:\n",
    "    print responses.loc[i, 'URL']"
   ]
  }
 ],
 "metadata": {
  "anaconda-cloud": {},
  "kernelspec": {
   "display_name": "Python [conda root]",
   "language": "python",
   "name": "conda-root-py"
  },
  "language_info": {
   "codemirror_mode": {
    "name": "ipython",
    "version": 2
   },
   "file_extension": ".py",
   "mimetype": "text/x-python",
   "name": "python",
   "nbconvert_exporter": "python",
   "pygments_lexer": "ipython2",
   "version": "2.7.12"
  }
 },
 "nbformat": 4,
 "nbformat_minor": 1
}
